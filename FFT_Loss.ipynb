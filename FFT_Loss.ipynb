{
  "nbformat": 4,
  "nbformat_minor": 0,
  "metadata": {
    "colab": {
      "provenance": [],
      "toc_visible": true
    },
    "kernelspec": {
      "name": "python3",
      "display_name": "Python 3"
    },
    "language_info": {
      "name": "python"
    }
  },
  "cells": [
    {
      "cell_type": "markdown",
      "source": [
        "# 3-channel Autocorr with Tensorflow"
      ],
      "metadata": {
        "id": "bHKcrzvSfwkN"
      }
    },
    {
      "cell_type": "code",
      "execution_count": 4,
      "metadata": {
        "id": "2p4lW19dwVYT"
      },
      "outputs": [],
      "source": [
        "import tensorflow as tf\n",
        "import numpy as np\n",
        "import torch\n",
        "def torch_autocorr(x):\n",
        "    if len(x.shape) < 4:\n",
        "        x = torch.unsqueeze(x, dim=0)\n",
        "\n",
        "    x = x.detach().cpu().numpy()\n",
        "\n",
        "    dim = x.shape[1]\n",
        "\n",
        "    x = 2*x - 1\n",
        "    x = tf.transpose(x, perm=[0, 3, 1, 2])\n",
        "    x = tf.cast(x, tf.complex64)\n",
        "\n",
        "    m = x\n",
        "    M = np.array(tf.signal.fft2d(m))\n",
        "\n",
        "    mag = tf.math.abs(M)\n",
        "    mag = tf.cast(mag, tf.complex64)\n",
        "\n",
        "    ang = tf.math.atan2(tf.math.imag(M), tf.math.real(M))\n",
        "    ang = tf.cast(ang, tf.complex64)\n",
        "\n",
        "    exp1 = tf.math.exp(tf.dtypes.complex(0., -1.)*ang)\n",
        "    exp2 = tf.math.exp(tf.dtypes.complex(0., 1.)*ang)\n",
        "\n",
        "    term1 = mag*exp1\n",
        "    term2 = mag*exp2\n",
        "\n",
        "    FFtmp = (term1*term2)/(32**2)\n",
        "\n",
        "    autocorr = tf.signal.ifft2d(FFtmp)\n",
        "    autocorr = tf.math.real(autocorr)\n",
        "\n",
        "    autocorr = tf.transpose(autocorr, perm=[0, 2, 3, 1])\n",
        "\n",
        "    rv = np.int32(np.floor(dim/2))\n",
        "    #rv = tf.cast(tf.math.floor(dim/2), tf.int32)\n",
        "    # autocorr = tf.roll(autocorr, rv, 1)\n",
        "    autocorr = tf.roll(autocorr, rv, 2)\n",
        "    # # autocorr = tf.signal.ifftshift(autocorr, axes=(1, 2))\n",
        "\n",
        "\n",
        "    # # Convert the TensorFlow tensor to a NumPy array\n",
        "    # np_array = autocorr.numpy()\n",
        "    np_array = autocorr.numpy()\n",
        "    # Create a PyTorch tensor from the NumPy array\n",
        "    torch_tensor_autocorr = torch.from_numpy(np_array)\n",
        "\n",
        "    return torch_tensor_autocorr"
      ]
    },
    {
      "cell_type": "markdown",
      "source": [
        "# 3-channel Autocorr with PyTorch"
      ],
      "metadata": {
        "id": "bEM5xpVDgDd2"
      }
    },
    {
      "cell_type": "code",
      "source": [
        "import torch\n",
        "import torch.nn as nn\n",
        "\n",
        "def autocorr(x):\n",
        "    \"\"\"\n",
        "    x is a 3 dimensional torch tensor.\n",
        "    \"\"\"\n",
        "    if len(x.shape) < 4:\n",
        "        x = torch.unsqueeze(x, dim=0)\n",
        "\n",
        "    dim = x.shape[1]\n",
        "\n",
        "    x = 2*x - 1\n",
        "    x = torch.permute(x, (0, 3, 1, 2))\n",
        "    x_complex = x.type(torch.complex64)\n",
        "\n",
        "    M = torch.fft.fft2(x_complex)\n",
        "    mag_M_complex = torch.abs(M).type(torch.complex64)\n",
        "\n",
        "    # bug here: #RuntimeError: Function 'Atan2Backward0' returned nan values in its 0th output.\n",
        "    # diagnosis: M.real becomes 0 which leads to NaN values into atan2\n",
        "    # short-fix: add eps value to M.real\n",
        "    eps=1e-6\n",
        "    # TODO: is M.real negative anywhere?\n",
        "    ang = torch.atan2(M.imag, M.real+eps)\n",
        "\n",
        "\n",
        "    ang = ang.type(torch.complex64)\n",
        "\n",
        "    device = ang.device\n",
        "    # device = ang.get_device() # device used to be this\n",
        "    exp1 = torch.exp(torch.complex(torch.tensor([0], dtype=torch.float32, device=device), torch.tensor([-1], dtype=torch.float32, device=device))*ang)\n",
        "    exp2 = torch.exp(torch.complex(torch.tensor([0], dtype=torch.float32, device=device), torch.tensor([1], dtype=torch.float32, device=device))*ang)\n",
        "\n",
        "    term1 = mag_M_complex*exp1\n",
        "    term2 = mag_M_complex*exp2\n",
        "\n",
        "    FFtmp = (term1*term2) / (32**2)\n",
        "\n",
        "    autocorr = torch.fft.ifft2(FFtmp) # till here the values are the same upto 1e-7 tolerance\n",
        "    autocorr = autocorr.real\n",
        "    autocorr = torch.permute(autocorr, (0, 2, 3, 1))\n",
        "\n",
        "    rv = torch.tensor(dim//2, dtype=torch.int32)\n",
        "    # #autocorr = torch.roll(autocorr, rv, 1)\n",
        "    # #autocorr = torch.roll(autocorr, rv, 2)\n",
        "    autocorr = torch.roll(autocorr, dim//2, 2)\n",
        "    # return autocorr\n",
        "\n",
        "    return autocorr"
      ],
      "metadata": {
        "id": "pLY6MJoRx-Wk"
      },
      "execution_count": 5,
      "outputs": []
    },
    {
      "cell_type": "markdown",
      "source": [
        "## Test that the outputs from the tensorflow implementation and the pytorch implementation are the same."
      ],
      "metadata": {
        "id": "SdtPZwTggH0l"
      }
    },
    {
      "cell_type": "code",
      "source": [
        "test_input = torch.randn((3, 64, 64))\n",
        "tolerance = 1e-06\n",
        "def equal_within_tolerance(arr1, arr2, ):\n",
        "    return np.isclose(arr1.numpy(), arr2.numpy(),\n",
        "                      atol=tolerance\n",
        "                      )"
      ],
      "metadata": {
        "id": "faQVzZmo0na5"
      },
      "execution_count": 6,
      "outputs": []
    },
    {
      "cell_type": "code",
      "source": [
        "output1 = torch_autocorr(test_input)\n",
        "output2 = autocorr(test_input)\n",
        "print(output1.shape)\n",
        "print(output2.shape)\n",
        "print(f\"All values equal: {(output1==output2).all()}\")\n",
        "print(equal_within_tolerance(output1, output2))\n",
        "print(f\"All values within the tolerance of {tolerance}: {equal_within_tolerance(output1, output2).all()}\")\n",
        "print(f\"{np.sum((equal_within_tolerance(output1, output2))==True)} values within the tolerance value of {tolerance}.\")\n",
        "print(f\"{np.sum((equal_within_tolerance(output1, output2))==False)} not values within the tolerance value {tolerance}.\")"
      ],
      "metadata": {
        "colab": {
          "base_uri": "https://localhost:8080/"
        },
        "id": "CgG06qTh1reX",
        "outputId": "166cfd61-0462-4c35-8401-d35fc7dd191c"
      },
      "execution_count": 7,
      "outputs": [
        {
          "output_type": "stream",
          "name": "stdout",
          "text": [
            "torch.Size([1, 3, 64, 64])\n",
            "torch.Size([1, 3, 64, 64])\n",
            "All values equal: False\n",
            "[[[[ True  True  True ...  True  True  True]\n",
            "   [ True  True  True ...  True  True  True]\n",
            "   [ True  True  True ...  True  True  True]\n",
            "   ...\n",
            "   [ True  True  True ...  True  True  True]\n",
            "   [ True  True  True ...  True  True  True]\n",
            "   [ True  True  True ...  True  True  True]]\n",
            "\n",
            "  [[ True  True  True ...  True  True  True]\n",
            "   [ True  True  True ...  True  True  True]\n",
            "   [ True  True  True ...  True  True  True]\n",
            "   ...\n",
            "   [ True  True  True ...  True  True  True]\n",
            "   [ True  True  True ...  True  True  True]\n",
            "   [ True  True  True ...  True  True  True]]\n",
            "\n",
            "  [[ True  True  True ...  True  True  True]\n",
            "   [ True  True  True ...  True  True  True]\n",
            "   [ True  True  True ...  True  True  True]\n",
            "   ...\n",
            "   [ True  True  True ...  True  True  True]\n",
            "   [ True  True  True ...  True  True  True]\n",
            "   [ True  True  True ...  True  True  True]]]]\n",
            "All values within the tolerance of 1e-06: True\n",
            "12288 values within the tolerance value of 1e-06.\n",
            "0 not values within the tolerance value 1e-06.\n"
          ]
        }
      ]
    },
    {
      "cell_type": "markdown",
      "source": [
        "## 3-channel Autocorr Loss Definition"
      ],
      "metadata": {
        "id": "LqVwZnkCBP_S"
      }
    },
    {
      "cell_type": "code",
      "source": [
        "class FFTLoss(nn.Module):\n",
        "    def __init__(self):\n",
        "        super(FFTLoss, self).__init__()\n",
        "        self.mae_loss = nn.L1Loss()\n",
        "\n",
        "    def forward(self, input, target):\n",
        "        input_autocorr = autocorr(input)\n",
        "        target_autocorr = autocorr(target)\n",
        "        diff = self.mae_loss(input_autocorr, target_autocorr)\n",
        "        return diff"
      ],
      "metadata": {
        "id": "9QYLYg3qBJsB"
      },
      "execution_count": 8,
      "outputs": []
    },
    {
      "cell_type": "code",
      "source": [
        "# test the loss\n",
        "import torch\n",
        "import torch.nn as nn\n",
        "\n",
        "input = torch.randn((3, 64, 64), requires_grad=True)\n",
        "target = torch.randn((3, 64, 64))\n",
        "\n",
        "mae_loss = nn.L1Loss()\n",
        "output = mae_loss(input, target)\n",
        "output.backward()\n",
        "\n",
        "print('input: ', input)\n",
        "print('target: ', target)\n",
        "print('output: ', output)"
      ],
      "metadata": {
        "id": "kmgs_n1awjq4",
        "colab": {
          "base_uri": "https://localhost:8080/"
        },
        "outputId": "a796b0ab-6c01-4c95-f29c-2747d5665247"
      },
      "execution_count": 9,
      "outputs": [
        {
          "output_type": "stream",
          "name": "stdout",
          "text": [
            "input:  tensor([[[ 1.5844,  2.3850, -0.7453,  ..., -1.6999,  0.0049, -0.6264],\n",
            "         [-0.2737, -0.3076,  0.0788,  ..., -0.5635, -1.4234, -0.3916],\n",
            "         [ 1.0593,  0.5306,  0.2403,  ...,  0.3872,  1.0334, -0.0484],\n",
            "         ...,\n",
            "         [ 0.1068,  0.3477,  0.0632,  ...,  2.2598, -0.1183,  0.1464],\n",
            "         [ 0.4537, -0.9752, -1.4914,  ..., -0.3401, -0.9664, -0.6865],\n",
            "         [-1.2258, -0.6782,  0.7325,  ...,  1.3614,  1.6083,  1.1866]],\n",
            "\n",
            "        [[ 0.8961,  0.4742,  0.4697,  ..., -0.6587, -0.1944, -0.8582],\n",
            "         [-1.5639,  1.5904,  1.3730,  ..., -1.0751, -1.3736, -2.2031],\n",
            "         [ 0.0995,  0.0772,  0.2394,  ..., -1.6253,  0.3708,  0.2671],\n",
            "         ...,\n",
            "         [-0.6089,  0.4885,  0.5964,  ...,  0.4846, -0.2461,  0.7501],\n",
            "         [-0.4174, -1.0292, -0.7209,  ...,  1.3391, -2.9967,  1.9490],\n",
            "         [ 0.5829, -1.3463,  1.2110,  ..., -0.2027, -1.2969, -1.3199]],\n",
            "\n",
            "        [[-0.6086,  0.3795,  0.6482,  ...,  0.4441,  0.2197, -0.3794],\n",
            "         [-0.2895,  0.7276, -0.4329,  ..., -0.2397,  0.1975,  0.6985],\n",
            "         [-0.3202, -0.3227,  0.3403,  ...,  0.3636, -0.0814,  1.5881],\n",
            "         ...,\n",
            "         [ 0.1949, -1.5011, -0.1816,  ..., -0.3060,  0.3417,  1.1384],\n",
            "         [ 1.0024,  3.2973, -0.6154,  ..., -1.3613,  0.9978,  1.0808],\n",
            "         [-1.2207, -0.2077, -0.3451,  ..., -1.2567, -1.3328,  0.6071]]],\n",
            "       requires_grad=True)\n",
            "target:  tensor([[[ 0.7995, -1.0496, -0.8850,  ..., -0.3651, -0.5723, -0.5820],\n",
            "         [ 1.0592,  0.6963,  0.4732,  ...,  1.7199, -1.9680, -0.4736],\n",
            "         [ 2.1302, -0.1146,  1.7436,  ..., -0.4218,  0.3627, -0.1141],\n",
            "         ...,\n",
            "         [-0.0054, -1.3805,  1.3379,  ...,  0.3044, -1.6948,  0.1548],\n",
            "         [-0.5120, -1.3629,  1.2186,  ...,  0.6221,  2.2172,  0.1849],\n",
            "         [-1.7144,  0.6605,  1.0184,  ...,  0.0512, -0.6179,  0.8660]],\n",
            "\n",
            "        [[ 1.6802, -0.6182, -0.2616,  ..., -0.9675,  0.6976, -0.3997],\n",
            "         [ 0.0975,  0.3236,  1.2688,  ...,  1.1500,  0.9839, -0.0387],\n",
            "         [ 0.9241,  0.3296,  0.9104,  ...,  0.1856, -1.0787,  1.4495],\n",
            "         ...,\n",
            "         [-1.0045, -1.2532, -1.2322,  ..., -1.4246,  1.2883,  0.2037],\n",
            "         [-1.0175, -0.6098, -0.3829,  ...,  0.6150, -1.3526, -0.2431],\n",
            "         [ 0.3882,  0.7697,  1.4039,  ...,  1.5021,  0.8098,  1.2362]],\n",
            "\n",
            "        [[-0.8729, -0.8613,  1.0465,  ..., -0.3942,  1.5999, -0.5081],\n",
            "         [-0.1954,  0.5592, -0.6655,  ..., -0.5436, -0.1216, -0.3755],\n",
            "         [ 1.5480,  0.3062, -0.4004,  ...,  0.7269,  0.5011,  0.0593],\n",
            "         ...,\n",
            "         [-0.4224,  0.2140,  0.1597,  ..., -0.7158, -0.1092,  0.4963],\n",
            "         [ 0.5777, -1.0214,  0.7233,  ..., -2.2137, -0.2783, -1.1662],\n",
            "         [ 1.9943, -1.1492,  1.3742,  ...,  1.3053,  1.0906, -0.3738]]])\n",
            "output:  tensor(1.1276, grad_fn=<MeanBackward0>)\n"
          ]
        }
      ]
    },
    {
      "cell_type": "code",
      "source": [
        "# test the loss\n",
        "import torch\n",
        "import torch.nn as nn\n",
        "\n",
        "input = torch.randn((3, 64, 64), requires_grad=True)\n",
        "target = torch.randn((3, 64, 64))\n",
        "\n",
        "fft_loss = FFTLoss()\n",
        "output = fft_loss(input, target)\n",
        "output.backward()\n",
        "\n",
        "print('input: ', input)\n",
        "print('target: ', target)\n",
        "print('output: ', output)"
      ],
      "metadata": {
        "colab": {
          "base_uri": "https://localhost:8080/"
        },
        "id": "7p0Q1mCwCrc3",
        "outputId": "09be080c-0707-4769-a71b-a6c3088e10a4"
      },
      "execution_count": 10,
      "outputs": [
        {
          "output_type": "stream",
          "name": "stdout",
          "text": [
            "input:  tensor([[[ 0.0632,  0.5703,  0.5042,  ..., -1.4366,  1.5217, -0.7888],\n",
            "         [ 1.0409,  1.3789,  0.5409,  ..., -0.4922,  0.4792,  0.1041],\n",
            "         [ 0.0577,  0.4637,  0.7188,  ...,  0.2890,  1.4146, -0.6688],\n",
            "         ...,\n",
            "         [ 0.6111, -2.0971,  0.5029,  ...,  2.7713, -1.2546, -1.3935],\n",
            "         [-0.5656,  1.1384, -0.0472,  ...,  0.8142, -0.7272,  0.2222],\n",
            "         [-0.1634, -0.3970, -1.0336,  ...,  0.9261,  0.7451, -0.5798]],\n",
            "\n",
            "        [[-0.7923, -0.0243, -1.2573,  ..., -0.1772, -1.6246,  0.6305],\n",
            "         [ 0.3310, -0.2264, -1.6536,  ...,  1.6238,  1.9152,  0.5095],\n",
            "         [ 0.3703,  1.2908,  0.7102,  ...,  0.5952, -0.2070, -0.5702],\n",
            "         ...,\n",
            "         [ 1.2992,  0.5883,  0.3004,  ..., -1.3658, -0.6788,  0.0871],\n",
            "         [-0.0846, -0.2618,  0.4455,  ..., -1.3941, -0.0100,  0.8696],\n",
            "         [ 0.5937,  1.8452, -0.0137,  ..., -0.4370,  1.4704,  1.1056]],\n",
            "\n",
            "        [[ 0.5505, -0.8911, -0.5091,  ..., -1.1053,  1.6671,  0.4825],\n",
            "         [ 0.9111, -0.2574, -0.1010,  ..., -0.6240, -1.1435, -0.9524],\n",
            "         [-1.0467, -0.2014, -1.7205,  ...,  0.2346, -1.4162,  0.9006],\n",
            "         ...,\n",
            "         [-0.4513, -0.5866, -0.1502,  ...,  1.0795,  0.5469,  1.2052],\n",
            "         [ 0.2030, -0.7756, -0.8816,  ...,  1.0689,  0.7640,  0.1618],\n",
            "         [ 1.1375,  0.7934,  1.5886,  ..., -0.3570, -0.9180, -0.0982]]],\n",
            "       requires_grad=True)\n",
            "target:  tensor([[[ 0.0108, -0.4912, -1.1405,  ..., -0.2513, -1.5965, -1.4920],\n",
            "         [ 1.9308,  0.0671, -1.4526,  ...,  0.7457, -0.5411, -1.1489],\n",
            "         [ 2.4123, -0.9040, -1.2208,  ..., -0.4371, -1.5431, -0.5366],\n",
            "         ...,\n",
            "         [ 0.4221,  0.8039,  0.0288,  ..., -0.2033,  0.0863,  0.3460],\n",
            "         [-1.1718, -0.8986, -0.0792,  ..., -1.1263,  0.4887, -0.9082],\n",
            "         [ 0.7286, -0.2593, -1.3879,  ...,  0.1639, -0.5055, -1.1198]],\n",
            "\n",
            "        [[ 0.9837, -0.8930,  0.4962,  ..., -0.0479,  1.2546,  0.8654],\n",
            "         [ 0.4093, -1.0335, -2.1952,  ..., -1.1128, -0.2181,  0.4411],\n",
            "         [-1.3789,  0.6717,  0.0892,  ...,  0.3959,  0.1541,  1.2846],\n",
            "         ...,\n",
            "         [ 1.2972,  0.2346,  0.4057,  ..., -0.5478, -1.8783,  1.6851],\n",
            "         [-0.1334, -0.9701,  0.4539,  ..., -0.7560,  0.6714, -0.9131],\n",
            "         [ 0.1022,  0.7310,  0.2751,  ...,  1.1261,  2.0258, -0.4366]],\n",
            "\n",
            "        [[-0.0291,  1.6131, -1.1206,  ..., -0.1774, -0.3239, -0.1335],\n",
            "         [-1.5744, -1.0203, -0.3346,  ...,  1.7359,  0.7285, -0.7041],\n",
            "         [ 0.4147,  0.2625,  0.3544,  ..., -1.1485,  0.5930,  0.2265],\n",
            "         ...,\n",
            "         [ 1.1254, -1.8765, -0.4406,  ..., -1.4312,  0.5773,  0.7274],\n",
            "         [ 1.6345,  0.3502,  0.5672,  ..., -0.4703,  0.2044,  1.6451],\n",
            "         [ 0.2142, -1.5315, -0.5807,  ...,  0.7574, -0.1056,  0.3047]]])\n",
            "output:  tensor(0.0902, grad_fn=<MeanBackward0>)\n"
          ]
        }
      ]
    },
    {
      "cell_type": "markdown",
      "source": [
        "# Autocorr for Binarized Images"
      ],
      "metadata": {
        "id": "vOIY-zKTEdi6"
      }
    },
    {
      "cell_type": "code",
      "execution_count": 11,
      "metadata": {
        "colab": {
          "base_uri": "https://localhost:8080/"
        },
        "id": "5maPTRDFkZSl",
        "outputId": "92e21168-f72f-4637-cd0d-f1a934674a0b"
      },
      "outputs": [
        {
          "output_type": "stream",
          "name": "stdout",
          "text": [
            "The autoreload extension is already loaded. To reload it, use:\n",
            "  %reload_ext autoreload\n"
          ]
        },
        {
          "output_type": "stream",
          "name": "stderr",
          "text": [
            "<ipython-input-11-ed705a678eab>:6: DeprecationWarning: Please use `convolve` from the `scipy.ndimage` namespace, the `scipy.ndimage.filters` namespace is deprecated.\n",
            "  from scipy.ndimage.filters import convolve\n",
            "<ipython-input-11-ed705a678eab>:7: DeprecationWarning: Please use `gaussian_filter` from the `scipy.ndimage` namespace, the `scipy.ndimage.filters` namespace is deprecated.\n",
            "  from scipy.ndimage.filters import gaussian_filter\n"
          ]
        }
      ],
      "source": [
        "%matplotlib inline\n",
        "%load_ext autoreload\n",
        "%autoreload 2\n",
        "\n",
        "import matplotlib.pyplot as plt\n",
        "from scipy.ndimage.filters import convolve\n",
        "from scipy.ndimage.filters import gaussian_filter\n",
        "import numpy as np\n",
        "import time"
      ]
    },
    {
      "cell_type": "code",
      "source": [
        "el = 224  # number of elements per side in the microstructure\n",
        "H = 2  # number of phases in the microstructure\n",
        "vf = .4  # volume fraction of phase 0\n",
        "iA = 0  # phase A of correlation\n",
        "iB = 0  # phase B of correlation"
      ],
      "metadata": {
        "id": "1U34TihnkiqJ"
      },
      "execution_count": 12,
      "outputs": []
    },
    {
      "cell_type": "markdown",
      "source": [
        "## Generate microstructure"
      ],
      "metadata": {
        "id": "iLT5lkSRk-Y0"
      }
    },
    {
      "cell_type": "code",
      "source": [
        "def generate_microstructure(el):\n",
        "    base = np.random.random((el, el))\n",
        "\n",
        "    r2a = np.random.randint(2, 20)\n",
        "    r2b = np.random.randint(2, 20)\n",
        "    weights = np.random.random(size=(r2a, r2b))\n",
        "\n",
        "    raw = convolve(base, weights, mode='wrap')\n",
        "\n",
        "    blur = gaussian_filter(raw, sigma=1)\n",
        "\n",
        "    amin = blur.min()\n",
        "    amax = blur.max()\n",
        "    scaled = (blur-amin)/(amax-amin)\n",
        "\n",
        "    micr = scaled > vf\n",
        "    return micr\n",
        "micr = generate_microstructure(el)"
      ],
      "metadata": {
        "id": "CBbZDwxjknXz"
      },
      "execution_count": 6,
      "outputs": []
    },
    {
      "cell_type": "code",
      "source": [
        "plt.figure(figsize=[5, 4])\n",
        "ax = plt.imshow(micr, origin='lower',\n",
        "                interpolation='none', cmap='gray')\n",
        "plt.colorbar(ax)\n",
        "plt.title('microstructure')\n",
        "plt.show()"
      ],
      "metadata": {
        "colab": {
          "base_uri": "https://localhost:8080/",
          "height": 391
        },
        "id": "IBHs2w6DkpXp",
        "outputId": "ad2b4d94-f297-422d-9dc4-40a4ae6128ef"
      },
      "execution_count": 7,
      "outputs": [
        {
          "output_type": "display_data",
          "data": {
            "text/plain": [
              "<Figure size 500x400 with 2 Axes>"
            ],
            "image/png": "[encoded data removed]"
          },
          "metadata": {}
        }
      ]
    },
    {
      "cell_type": "code",
      "source": [
        "# el = res_size  # number of elements per side in the microstructure\n",
        "# H = 2  # number of phases in the microstructure\n",
        "# vf = .4  # volume fraction of phase 0\n",
        "# iA = 0  # phase A of correlation\n",
        "# iB = 0  # phase B of correlation"
      ],
      "metadata": {
        "id": "HI5DMxGMlVF7"
      },
      "execution_count": 15,
      "outputs": []
    },
    {
      "cell_type": "code",
      "source": [
        "def generate_microstructure_function(micr, H, el):\n",
        "    \"\"\"\n",
        "    Inputs:\n",
        "    micr: microstructure image (np array)\n",
        "    H: number of phases in the microstructure (int)\n",
        "    el: length of micr along one dimension in pixels (int)\n",
        "\n",
        "    returns:\n",
        "    np array microstructure function\n",
        "    \"\"\"\n",
        "    mf = np.zeros((H, el, el))\n",
        "    for h in range(H):\n",
        "        mf[h, ...] = micr[...] == h\n",
        "    frac = np.sum(mf[0, ...])/np.float32(mf[0, ...].size)\n",
        "    print(\"volume fraction phase 0: %s\" % np.round(frac, 2))\n",
        "    return mf"
      ],
      "metadata": {
        "id": "cNQczw3blNrm"
      },
      "execution_count": 16,
      "outputs": []
    },
    {
      "cell_type": "code",
      "source": [
        "def cal_2p_spst(mf, H, el):\n",
        "    st = time.time()\n",
        "\n",
        "    M = np.zeros((H, el, el), dtype='complex128')\n",
        "\n",
        "    for h in range(H):\n",
        "        M[h, ...] = np.fft.fftn(mf[h, ...], axes=[0, 1])\n",
        "\n",
        "    S = el**2\n",
        "\n",
        "    M1 = M[iA, ...]\n",
        "    mag1 = np.abs(M1)\n",
        "    ang1 = np.arctan2(M1.imag, M1.real)\n",
        "    exp1 = np.exp(-1j*ang1)\n",
        "    term1 = mag1*exp1\n",
        "\n",
        "    M2 = M[iB, ...]\n",
        "    mag2 = np.abs(M2)\n",
        "    ang2 = np.arctan2(M2.imag, M2.real)\n",
        "    exp2 = np.exp(1j*ang2)\n",
        "    term2 = mag2*exp2\n",
        "\n",
        "    FFtmp = term1*term2/S\n",
        "\n",
        "    ff_v2 = np.fft.ifftn(FFtmp, [el, el], [0, 1]).real\n",
        "\n",
        "    timeT = np.round(time.time()-st, 5)\n",
        "    print(\"correlation computed: %s s\" % timeT)\n",
        "    return ff_v2"
      ],
      "metadata": {
        "id": "QavV8WEhbPuE"
      },
      "execution_count": 17,
      "outputs": []
    },
    {
      "cell_type": "markdown",
      "source": [
        "## PyTorch Implementation"
      ],
      "metadata": {
        "id": "ayMz1tONFGSd"
      }
    },
    {
      "cell_type": "code",
      "source": [
        "import torch\n",
        "import torch.nn as nn"
      ],
      "metadata": {
        "id": "ubCk0o5qH8T5"
      },
      "execution_count": 18,
      "outputs": []
    },
    {
      "cell_type": "markdown",
      "source": [
        "### Implement the microstruction function in PyTorch"
      ],
      "metadata": {
        "id": "WT4EqX5YKfDz"
      }
    },
    {
      "cell_type": "code",
      "source": [
        "def generate_torch_microstructure_function(micr, H, el):\n",
        "    \"\"\"\n",
        "    Inputs:\n",
        "    micr: microstructure image (torch.Tensor)\n",
        "    H: number of phases in the microstructure (int)\n",
        "    el: length of micr along one dimension in pixels (int)\n",
        "\n",
        "    returns:\n",
        "    torch.Tensor microstructure function\n",
        "    \"\"\"\n",
        "    mf = torch.zeros((H, el, el), device=micr.device, requires_grad=True)\n",
        "    with torch.no_grad():\n",
        "        for h in range(H):\n",
        "            mf[h, ...] = micr.eq(h).clone().detach().to(micr.device)\n",
        "    frac = torch.sum(mf[0, ...]).float() / mf[0, ...].numel()\n",
        "    print(\"volume fraction phase 0: %s\" % round(frac.item(), 2))\n",
        "    return mf"
      ],
      "metadata": {
        "id": "2OzqQTUXCM0J"
      },
      "execution_count": 19,
      "outputs": []
    },
    {
      "cell_type": "markdown",
      "source": [
        "#### Test that the PyTorch implementation of the mf is correct."
      ],
      "metadata": {
        "id": "iHj1yNQAKGbH"
      }
    },
    {
      "cell_type": "code",
      "source": [
        "numpy_mf = generate_microstructure_function(micr, H, el)\n",
        "torch_mf = generate_torch_microstructure_function(torch.tensor(micr), H, el)"
      ],
      "metadata": {
        "colab": {
          "base_uri": "https://localhost:8080/"
        },
        "id": "AH_n8fN3H1CZ",
        "outputId": "3abe95d1-2ceb-4531-f30a-71952436f794"
      },
      "execution_count": 20,
      "outputs": [
        {
          "output_type": "stream",
          "name": "stdout",
          "text": [
            "volume fraction phase 0: 0.3\n",
            "volume fraction phase 0: 0.3\n"
          ]
        }
      ]
    },
    {
      "cell_type": "code",
      "source": [
        "test_input = torch.randn((3, 64, 64))\n",
        "tolerance = 1e-06\n",
        "def equal_within_tolerance(arr1, arr2, ):\n",
        "    return np.isclose(arr1, arr2.detach().numpy(),\n",
        "                      atol=tolerance\n",
        "                      )"
      ],
      "metadata": {
        "id": "No5m7fs2J-SD"
      },
      "execution_count": 21,
      "outputs": []
    },
    {
      "cell_type": "code",
      "source": [
        "print(numpy_mf.shape)\n",
        "print(torch_mf.shape)\n",
        "print(f\"All values equal: {(numpy_mf==torch_mf)}\")\n",
        "print(equal_within_tolerance(numpy_mf, torch_mf))\n",
        "print(f\"All values within the tolerance of {tolerance}: {equal_within_tolerance(numpy_mf, torch_mf).all()}\")\n",
        "print(f\"{np.sum((equal_within_tolerance(numpy_mf, torch_mf))==True)} values within the tolerance value of {tolerance}.\")\n",
        "print(f\"{np.sum((equal_within_tolerance(numpy_mf, torch_mf))==False)} not values within the tolerance value {tolerance}.\")"
      ],
      "metadata": {
        "colab": {
          "base_uri": "https://localhost:8080/"
        },
        "id": "IiHvLRo8JTCq",
        "outputId": "b7f0da7e-77c1-4df3-8caf-50922e74dd57"
      },
      "execution_count": 22,
      "outputs": [
        {
          "output_type": "stream",
          "name": "stdout",
          "text": [
            "(2, 224, 224)\n",
            "torch.Size([2, 224, 224])\n",
            "All values equal: False\n",
            "[[[ True  True  True ...  True  True  True]\n",
            "  [ True  True  True ...  True  True  True]\n",
            "  [ True  True  True ...  True  True  True]\n",
            "  ...\n",
            "  [ True  True  True ...  True  True  True]\n",
            "  [ True  True  True ...  True  True  True]\n",
            "  [ True  True  True ...  True  True  True]]\n",
            "\n",
            " [[ True  True  True ...  True  True  True]\n",
            "  [ True  True  True ...  True  True  True]\n",
            "  [ True  True  True ...  True  True  True]\n",
            "  ...\n",
            "  [ True  True  True ...  True  True  True]\n",
            "  [ True  True  True ...  True  True  True]\n",
            "  [ True  True  True ...  True  True  True]]]\n",
            "All values within the tolerance of 1e-06: True\n",
            "100352 values within the tolerance value of 1e-06.\n",
            "0 not values within the tolerance value 1e-06.\n"
          ]
        }
      ]
    },
    {
      "cell_type": "markdown",
      "source": [
        "#### Test loss"
      ],
      "metadata": {
        "id": "BZWhXVzQ_ZiQ"
      }
    },
    {
      "cell_type": "code",
      "source": [
        "class MSFunctionLoss(nn.Module):\n",
        "    def __init__(self):\n",
        "        super(MSFunctionLoss, self).__init__()\n",
        "        self.mse_loss = nn.MSELoss()\n",
        "\n",
        "    def forward(self, input, target):\n",
        "        input_msf = generate_torch_microstructure_function(input, H=2, el=input.shape[-1]).unsqueeze(dim=0)\n",
        "        target_msf = generate_torch_microstructure_function(target, H=2, el=target.shape[-1]).unsqueeze(dim=0)\n",
        "        diff = self.mse_loss(input_msf, target_msf)\n",
        "        return diff"
      ],
      "metadata": {
        "id": "9hT-_0lx_Y4E"
      },
      "execution_count": 23,
      "outputs": []
    },
    {
      "cell_type": "code",
      "source": [
        "#input = torch.randn((1, 64, 64), requires_grad=True)\n",
        "#target = torch.randn((1, 64, 64))\n",
        "\n",
        "input = torch.tensor(generate_microstructure(el))\n",
        "target = torch.tensor(generate_microstructure(el))\n",
        "two_pt_fft_loss = MSFunctionLoss()\n",
        "output = two_pt_fft_loss(input, target)\n",
        "print(\"loss.item: \", output.item())\n",
        "output.backward()\n",
        "\n",
        "print('input: ', input)\n",
        "print('target: ', target)\n",
        "print('output: ', output)"
      ],
      "metadata": {
        "colab": {
          "base_uri": "https://localhost:8080/"
        },
        "id": "_YAgAJDq_u74",
        "outputId": "0f83012b-3ffc-4587-a5c4-d6546d010633"
      },
      "execution_count": 24,
      "outputs": [
        {
          "output_type": "stream",
          "name": "stdout",
          "text": [
            "volume fraction phase 0: 0.15\n",
            "volume fraction phase 0: 0.19\n",
            "loss.item:  0.2931082546710968\n",
            "input:  tensor([[False, False,  True,  ...,  True,  True,  True],\n",
            "        [ True,  True,  True,  ...,  True,  True,  True],\n",
            "        [ True,  True,  True,  ...,  True,  True,  True],\n",
            "        ...,\n",
            "        [False, False, False,  ..., False, False, False],\n",
            "        [ True, False, False,  ..., False, False, False],\n",
            "        [ True, False, False,  ..., False, False, False]])\n",
            "target:  tensor([[True, True, True,  ..., True, True, True],\n",
            "        [True, True, True,  ..., True, True, True],\n",
            "        [True, True, True,  ..., True, True, True],\n",
            "        ...,\n",
            "        [True, True, True,  ..., True, True, True],\n",
            "        [True, True, True,  ..., True, True, True],\n",
            "        [True, True, True,  ..., True, True, True]])\n",
            "output:  tensor(0.2931, grad_fn=<MseLossBackward0>)\n"
          ]
        }
      ]
    },
    {
      "cell_type": "markdown",
      "source": [
        "### Create cal_2p_spst in PyTorch"
      ],
      "metadata": {
        "id": "sTgL4IGZKUrE"
      }
    },
    {
      "cell_type": "code",
      "source": [
        "def calculate_2point_torch_spatialstat(mf, H, el):\n",
        "    \"\"\"\n",
        "    Inputs:\n",
        "    mf: microstructure function torch.Tensor\n",
        "    H: number of phases in the microstructure (int)\n",
        "    el: length of micr along one dimension in pixels (int)\n",
        "\n",
        "    returns:\n",
        "    ff_v2: 2d torch.Tensor FFT function\n",
        "    \"\"\"\n",
        "    st = time.time()\n",
        "\n",
        "    M = torch.zeros((H, el, el), dtype=torch.complex128, device=mf.device)\n",
        "\n",
        "    for h in range(H):\n",
        "        M[h, ...] = torch.fft.fftn(mf[h, ...], dim=[0, 1])\n",
        "\n",
        "    S = el**2\n",
        "\n",
        "    M1 = M[iA, ...]\n",
        "    mag1 = torch.abs(M1)\n",
        "\n",
        "    eps=1e-6\n",
        "    ang1 = torch.arctan2(M1.imag, M1.real+eps)\n",
        "    exp1 = torch.exp(-1j*ang1)\n",
        "    term1 = mag1*exp1\n",
        "\n",
        "    M2 = M[iB, ...]\n",
        "    mag2 = torch.abs(M2)\n",
        "    ang2 = torch.arctan2(M2.imag, M2.real+eps)\n",
        "    exp2 = torch.exp(1j*ang2)\n",
        "    term2 = mag2*exp2\n",
        "\n",
        "    FFtmp = term1*term2/S\n",
        "\n",
        "    ff_v2 = torch.fft.ifftn(FFtmp, [el, el], [0, 1]).real\n",
        "\n",
        "    timeT = round(time.time()-st, 5)\n",
        "    print(\"correlation computed: %s s\" % timeT)\n",
        "    return ff_v2"
      ],
      "metadata": {
        "id": "3LeKFkjgKQI0"
      },
      "execution_count": 25,
      "outputs": []
    },
    {
      "cell_type": "code",
      "source": [
        "numpy_ff = cal_2p_spst(numpy_mf, H, el)\n",
        "torch_ff = calculate_2point_torch_spatialstat(torch_mf, H, el)"
      ],
      "metadata": {
        "colab": {
          "base_uri": "https://localhost:8080/"
        },
        "id": "WAlElifePnoO",
        "outputId": "eb6de101-459f-4566-f21a-6e6b4ed1a491"
      },
      "execution_count": 26,
      "outputs": [
        {
          "output_type": "stream",
          "name": "stdout",
          "text": [
            "correlation computed: 0.02109 s\n",
            "correlation computed: 0.04273 s\n"
          ]
        }
      ]
    },
    {
      "cell_type": "markdown",
      "source": [
        "#### Test that the PyTorch implementation is valid."
      ],
      "metadata": {
        "id": "rrFNJPXXU6_1"
      }
    },
    {
      "cell_type": "code",
      "source": [
        "print(numpy_ff.shape)\n",
        "print(torch_ff.shape)\n",
        "print(f\"All values equal: {(numpy_ff==torch_ff)}\")\n",
        "print(equal_within_tolerance(numpy_ff, torch_ff))\n",
        "print(f\"All values within the tolerance of {tolerance}: {equal_within_tolerance(numpy_ff, torch_ff).all()}\")\n",
        "print(f\"{np.sum((equal_within_tolerance(numpy_ff, torch_ff))==True)} values within the tolerance value of {tolerance}.\")\n",
        "print(f\"{np.sum((equal_within_tolerance(numpy_ff, torch_ff))==False)} not values within the tolerance value {tolerance}.\")"
      ],
      "metadata": {
        "colab": {
          "base_uri": "https://localhost:8080/"
        },
        "id": "VEu_ZNJlUgn9",
        "outputId": "5aec6ed8-49b1-42ca-e727-8d1d4af0b508"
      },
      "execution_count": 27,
      "outputs": [
        {
          "output_type": "stream",
          "name": "stdout",
          "text": [
            "(224, 224)\n",
            "torch.Size([224, 224])\n",
            "All values equal: False\n",
            "[[ True  True  True ...  True  True  True]\n",
            " [ True  True  True ...  True  True  True]\n",
            " [ True  True  True ...  True  True  True]\n",
            " ...\n",
            " [ True  True  True ...  True  True  True]\n",
            " [ True  True  True ...  True  True  True]\n",
            " [ True  True  True ...  True  True  True]]\n",
            "All values within the tolerance of 1e-06: True\n",
            "50176 values within the tolerance value of 1e-06.\n",
            "0 not values within the tolerance value 1e-06.\n"
          ]
        }
      ]
    },
    {
      "cell_type": "code",
      "source": [
        "def two_point_autocorr_pytorch(img, H=2):\n",
        "    \"\"\"\n",
        "    PyTorch Implementation of 2-pt Spatial Statistics: FFT Approach.\n",
        "    img: torch.Tensor (shape 1 x H x W) H=W\n",
        "    H: number of phases in the microstructure (int)\n",
        "\n",
        "    returns:\n",
        "    torch.Tensor of size H x W\n",
        "    \"\"\"\n",
        "    el = img.size()[-1]\n",
        "    microstructure = img.squeeze(dim=0)\n",
        "    mf = generate_torch_microstructure_function(microstructure, H, el)\n",
        "    fft = calculate_2point_torch_spatialstat(mf, H, el)\n",
        "    return fft"
      ],
      "metadata": {
        "id": "3NaSFyd8VKIe"
      },
      "execution_count": 28,
      "outputs": []
    },
    {
      "cell_type": "code",
      "source": [
        "def show_spst(arr1, title, arr2=None, title2=None):\n",
        "    # arr1 and arr2 are numpy arrays of size [H, W]\n",
        "\n",
        "    plt.figure(figsize=[11, 4])\n",
        "\n",
        "    plt.subplot(121)\n",
        "    ff_c = np.fft.fftshift(arr1)\n",
        "    x_values = np.arange(-ff_c.shape[1] // 2, ff_c.shape[1] // 2)\n",
        "    y_values = np.arange(-ff_c.shape[0] // 2, ff_c.shape[0] // 2)\n",
        "    ax = plt.imshow(ff_c, origin='lower',\n",
        "                    interpolation='none', cmap='gray', extent=[x_values[0], x_values[-1], y_values[0], y_values[-1]])\n",
        "\n",
        "    plt.colorbar(ax)\n",
        "    plt.title(f'Correlation ({title}): %s and %s' % (iA, iB))\n",
        "\n",
        "    if title2 != None:\n",
        "        plt.subplot(122)\n",
        "        ff_c = np.fft.fftshift(arr2)\n",
        "        x_values = np.arange(-ff_c.shape[1] // 2, ff_c.shape[1] // 2)\n",
        "        y_values = np.arange(-ff_c.shape[0] // 2, ff_c.shape[0] // 2)\n",
        "        ax = plt.imshow(ff_c, origin='lower',\n",
        "                        interpolation='none', cmap='gray', extent=[x_values[0], x_values[-1], y_values[0], y_values[-1]])\n",
        "        plt.colorbar(ax)\n",
        "        plt.title(f'Correlation ({title2}): %s and %s' % (iA, iB))\n",
        "\n",
        "\n",
        "    plt.show()"
      ],
      "metadata": {
        "id": "ekiWRRA_W-DF"
      },
      "execution_count": 29,
      "outputs": []
    },
    {
      "cell_type": "code",
      "source": [
        "show_spst(torch_ff.detach().numpy(), title='FFT method via PyTorch', arr2=numpy_ff, title2='FFT method via numpy')"
      ],
      "metadata": {
        "colab": {
          "base_uri": "https://localhost:8080/",
          "height": 391
        },
        "id": "OLsyLH0cXKQ_",
        "outputId": "86aaab7c-fef2-4eb8-92c4-4d820147f2bd"
      },
      "execution_count": 30,
      "outputs": [
        {
          "output_type": "display_data",
          "data": {
            "text/plain": [
              "<Figure size 1100x400 with 4 Axes>"
            ],
            "image/png": "[encoded data removed]"
          },
          "metadata": {}
        }
      ]
    },
    {
      "cell_type": "markdown",
      "source": [
        "## Implement PyTorch Loss function"
      ],
      "metadata": {
        "id": "ovDdGiUrbIwq"
      }
    },
    {
      "cell_type": "code",
      "source": [
        "class TwoPointFFTLoss(nn.Module):\n",
        "    def __init__(self):\n",
        "        super(TwoPointFFTLoss, self).__init__()\n",
        "        self.mse_loss = nn.MSELoss()\n",
        "\n",
        "    def forward(self, input, target):\n",
        "        input_autocorr = two_point_autocorr_pytorch(input).unsqueeze(dim=0)\n",
        "        target_autocorr = two_point_autocorr_pytorch(target).unsqueeze(dim=0)\n",
        "        print(input_autocorr.shape)\n",
        "        diff = self.mse_loss(input_autocorr, target_autocorr)\n",
        "        #diff = self.mse_loss(input, target)\n",
        "        print(diff)\n",
        "        show_spst(input_autocorr[0].detach().numpy(), title='input', arr2=target_autocorr[0].detach().numpy(), title2='target')\n",
        "        return diff"
      ],
      "metadata": {
        "id": "3RTQ04JabIbz"
      },
      "execution_count": 31,
      "outputs": []
    },
    {
      "cell_type": "markdown",
      "source": [
        "### Test the loss function"
      ],
      "metadata": {
        "id": "9Pn9eAwSbs3a"
      }
    },
    {
      "cell_type": "code",
      "source": [
        "#input = torch.randn((1, 64, 64), requires_grad=True)\n",
        "#target = torch.randn((1, 64, 64))\n",
        "\n",
        "input = torch.tensor(generate_microstructure(el))\n",
        "target = torch.tensor(generate_microstructure(el))\n",
        "two_pt_fft_loss = TwoPointFFTLoss()\n",
        "output = two_pt_fft_loss(input, target)\n",
        "print(\"loss.item: \", output.item())\n",
        "output.backward()\n",
        "\n",
        "print('input: ', input)\n",
        "print('target: ', target)\n",
        "print('output: ', output)"
      ],
      "metadata": {
        "colab": {
          "base_uri": "https://localhost:8080/",
          "height": 773
        },
        "id": "JghZ_M0dbvXP",
        "outputId": "01fb2a6c-2361-44f5-e406-d7ee54e6b9dd"
      },
      "execution_count": 32,
      "outputs": [
        {
          "output_type": "stream",
          "name": "stdout",
          "text": [
            "volume fraction phase 0: 0.19\n",
            "correlation computed: 0.02072 s\n",
            "volume fraction phase 0: 0.18\n",
            "correlation computed: 0.02184 s\n",
            "torch.Size([1, 224, 224])\n",
            "tensor(4.3519e-05, dtype=torch.float64, grad_fn=<MseLossBackward0>)\n"
          ]
        },
        {
          "output_type": "display_data",
          "data": {
            "text/plain": [
              "<Figure size 1100x400 with 4 Axes>"
            ],
            "image/png": "[encoded data removed]"
          },
          "metadata": {}
        },
        {
          "output_type": "stream",
          "name": "stdout",
          "text": [
            "loss.item:  4.351918442209101e-05\n",
            "input:  tensor([[ True,  True,  True,  ...,  True,  True, False],\n",
            "        [ True,  True,  True,  ...,  True, False, False],\n",
            "        [ True,  True,  True,  ..., False, False, False],\n",
            "        ...,\n",
            "        [ True,  True,  True,  ...,  True,  True,  True],\n",
            "        [ True,  True,  True,  ...,  True,  True,  True],\n",
            "        [ True,  True,  True,  ...,  True,  True,  True]])\n",
            "target:  tensor([[True, True, True,  ..., True, True, True],\n",
            "        [True, True, True,  ..., True, True, True],\n",
            "        [True, True, True,  ..., True, True, True],\n",
            "        ...,\n",
            "        [True, True, True,  ..., True, True, True],\n",
            "        [True, True, True,  ..., True, True, True],\n",
            "        [True, True, True,  ..., True, True, True]])\n",
            "output:  tensor(4.3519e-05, dtype=torch.float64, grad_fn=<MseLossBackward0>)\n"
          ]
        }
      ]
    },
    {
      "cell_type": "markdown",
      "source": [
        "## Implement the above code for batches of images"
      ],
      "metadata": {
        "id": "YFeH3SGJyAqZ"
      }
    },
    {
      "cell_type": "code",
      "source": [
        "import torch\n",
        "import torch.nn as nn\n",
        "\n",
        "%matplotlib inline\n",
        "%load_ext autoreload\n",
        "%autoreload 2\n",
        "\n",
        "import matplotlib.pyplot as plt\n",
        "from scipy.ndimage.filters import convolve\n",
        "from scipy.ndimage.filters import gaussian_filter\n",
        "import numpy as np\n",
        "import time"
      ],
      "metadata": {
        "colab": {
          "base_uri": "https://localhost:8080/"
        },
        "id": "X3IWMUYk9fCM",
        "outputId": "394523a5-9aeb-453b-b207-456a56e03fac"
      },
      "execution_count": 3,
      "outputs": [
        {
          "output_type": "stream",
          "name": "stderr",
          "text": [
            "<ipython-input-3-2ebbfad8d0e8>:9: DeprecationWarning: Please use `convolve` from the `scipy.ndimage` namespace, the `scipy.ndimage.filters` namespace is deprecated.\n",
            "  from scipy.ndimage.filters import convolve\n",
            "<ipython-input-3-2ebbfad8d0e8>:10: DeprecationWarning: Please use `gaussian_filter` from the `scipy.ndimage` namespace, the `scipy.ndimage.filters` namespace is deprecated.\n",
            "  from scipy.ndimage.filters import gaussian_filter\n"
          ]
        }
      ]
    },
    {
      "cell_type": "code",
      "source": [
        "el = 224  # number of elements per side in the microstructure\n",
        "H = 2  # number of phases in the microstructure\n",
        "vf = .4  # volume fraction of phase 0\n",
        "iA = 0  # phase A of correlation\n",
        "iB = 0  # phase B of correlation\n",
        "\n",
        "def generate_torch_microstructure_function(micr, H, el):\n",
        "    \"\"\"\n",
        "    Inputs:\n",
        "    micr: microstructure image (torch.Tensor) of shape W x H\n",
        "    H: number of phases in the microstructure (int)\n",
        "    el: length of micr along one dimension in pixels (int)\n",
        "\n",
        "    returns:\n",
        "    torch.Tensor microstructure function\n",
        "    \"\"\"\n",
        "    mf = torch.zeros((H, el, el), device=micr.device, requires_grad=True)\n",
        "    with torch.no_grad():\n",
        "        for h in range(H):\n",
        "            mf[h, ...] = micr.eq(h).clone().detach().to(micr.device)\n",
        "    #frac = torch.sum(mf[0, ...]).float() / mf[0, ...].numel()\n",
        "    #print(\"volume fraction phase 0: %s\" % round(frac.item(), 2))\n",
        "    return mf\n",
        "\n",
        "\n",
        "def calculate_2point_torch_spatialstat(mf, H, el):\n",
        "    \"\"\"\n",
        "    Inputs:\n",
        "    mf: microstructure function torch.Tensor (el x el)\n",
        "    H: number of phases in the microstructure (int)\n",
        "    el: length of micr along one dimension in pixels (int)\n",
        "\n",
        "    returns:\n",
        "    ff_v2: 2d torch.Tensor FFT function\n",
        "    \"\"\"\n",
        "    #st = time.time()\n",
        "\n",
        "    M = torch.zeros((H, el, el), dtype=torch.complex128, device=mf.device)\n",
        "    for h in range(H):\n",
        "        M[h, ...] = torch.fft.fftn(mf[h, ...], dim=[0, 1])\n",
        "\n",
        "    S = el**2\n",
        "\n",
        "    M1 = M[iA, ...]\n",
        "    mag1 = torch.abs(M1)\n",
        "\n",
        "    eps=1e-6\n",
        "    ang1 = torch.arctan2(M1.imag, M1.real+eps)\n",
        "    exp1 = torch.exp(-1j*ang1)\n",
        "    term1 = mag1*exp1\n",
        "\n",
        "    M2 = M[iB, ...]\n",
        "    mag2 = torch.abs(M2)\n",
        "    ang2 = torch.arctan2(M2.imag, M2.real+eps)\n",
        "    exp2 = torch.exp(1j*ang2)\n",
        "    term2 = mag2*exp2\n",
        "\n",
        "    FFtmp = term1*term2/S\n",
        "\n",
        "    ff_v2 = torch.fft.ifftn(FFtmp, [el, el], [0, 1]).real\n",
        "\n",
        "    #timeT = round(time.time()-st, 5)\n",
        "    #print(\"correlation computed: %s s\" % timeT)\n",
        "    return ff_v2\n",
        "\n",
        "\n",
        "def calculate_batch_2point_torch_spatialstat(mfs, H, el):\n",
        "    \"\"\"\n",
        "    calculates spatial stats for a batch of microstructure functions\n",
        "    mfs: microstructure function torch.Tensor (batch_size x el x el)\n",
        "    H: number of phases in the microstructure (int)\n",
        "    el: length of micr along one dimension in pixels (int)\n",
        "    \"\"\"\n",
        "    return torch.concat([calculate_2point_torch_spatialstat(mf, H, el) for mf in mfs], dim=0)\n",
        "\n",
        "\n",
        "def two_point_autocorr_pytorch(imgs, H=2):\n",
        "    \"\"\"\n",
        "    PyTorch Implementation of 2-pt Spatial Statistics: FFT Approach.\n",
        "\n",
        "    TODO: make this function take in batches\n",
        "\n",
        "    img: torch.Tensor (shape batch_size x H x W) H=W\n",
        "    H: number of phases in the microstructure (int)\n",
        "\n",
        "    returns:\n",
        "    torch.Tensor of size H x W\n",
        "    \"\"\"\n",
        "    el = imgs.shape[-1]\n",
        "    microstructure_functions = torch.concat([generate_torch_microstructure_function(img, H, el).unsqueeze(dim=0) for img in imgs], dim=0)\n",
        "    ffts = calculate_batch_2point_torch_spatialstat(microstructure_functions, H, el)\n",
        "    return ffts\n",
        "\n",
        "\n",
        "class TwoPointFFTLoss(nn.Module):\n",
        "    def __init__(self):\n",
        "        super(TwoPointFFTLoss, self).__init__()\n",
        "        self.mse_loss = nn.MSELoss()\n",
        "\n",
        "    def forward(self, input, target):\n",
        "        input_autocorr = two_point_autocorr_pytorch(input)\n",
        "        target_autocorr = two_point_autocorr_pytorch(target)\n",
        "        diff = self.mse_loss(input_autocorr, target_autocorr)\n",
        "        return diff"
      ],
      "metadata": {
        "id": "XbfJfV5xx_wn"
      },
      "execution_count": 41,
      "outputs": []
    },
    {
      "cell_type": "code",
      "source": [
        "input1 = torch.tensor(generate_microstructure(el)).unsqueeze(dim=0)\n",
        "input2 = torch.tensor(generate_microstructure(el)).unsqueeze(dim=0)\n",
        "input = torch.cat([input1, input2], dim=0)\n",
        "\n",
        "target1 = torch.tensor(generate_microstructure(el)).unsqueeze(dim=0)\n",
        "target2 = torch.tensor(generate_microstructure(el)).unsqueeze(dim=0)\n",
        "target = torch.cat([target1, target2], dim=0)\n",
        "\n",
        "fft_loss = TwoPointFFTLoss()\n",
        "loss = fft_loss(input, target)"
      ],
      "metadata": {
        "id": "R__XYrj_yVtN"
      },
      "execution_count": 42,
      "outputs": []
    },
    {
      "cell_type": "code",
      "source": [
        "print(loss)"
      ],
      "metadata": {
        "colab": {
          "base_uri": "https://localhost:8080/"
        },
        "id": "mpqiIKccy_L0",
        "outputId": "ed3f05f5-b2b9-4314-f166-870c3471f2a6"
      },
      "execution_count": 43,
      "outputs": [
        {
          "output_type": "stream",
          "name": "stdout",
          "text": [
            "tensor(0.0014, dtype=torch.float64, grad_fn=<MseLossBackward0>)\n"
          ]
        }
      ]
    }
  ]
}