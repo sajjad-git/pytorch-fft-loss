{
  "nbformat": 4,
  "nbformat_minor": 0,
  "metadata": {
    "colab": {
      "provenance": []
    },
    "kernelspec": {
      "name": "python3",
      "display_name": "Python 3"
    },
    "language_info": {
      "name": "python"
    }
  },
  "cells": [
    {
      "cell_type": "markdown",
      "source": [
        "### Noah's Code"
      ],
      "metadata": {
        "id": "bHKcrzvSfwkN"
      }
    },
    {
      "cell_type": "code",
      "execution_count": null,
      "metadata": {
        "id": "2p4lW19dwVYT"
      },
      "outputs": [],
      "source": [
        "import tensorflow as tf\n",
        "def torch_autocorr(x):\n",
        "    if len(x.shape) < 4:\n",
        "        x = torch.unsqueeze(x, dim=0)\n",
        "\n",
        "    x = x.detach().cpu().numpy()\n",
        "\n",
        "    dim = x.shape[1]\n",
        "\n",
        "    x = 2*x - 1\n",
        "    x = tf.transpose(x, perm=[0, 3, 1, 2])\n",
        "    x = tf.cast(x, tf.complex64)\n",
        "\n",
        "    m = x\n",
        "    M = np.array(tf.signal.fft2d(m))\n",
        "\n",
        "    mag = tf.math.abs(M)\n",
        "    mag = tf.cast(mag, tf.complex64)\n",
        "\n",
        "    ang = tf.math.atan2(tf.math.imag(M), tf.math.real(M))\n",
        "    ang = tf.cast(ang, tf.complex64)\n",
        "\n",
        "    exp1 = tf.math.exp(tf.dtypes.complex(0., -1.)*ang)\n",
        "    exp2 = tf.math.exp(tf.dtypes.complex(0., 1.)*ang)\n",
        "\n",
        "    term1 = mag*exp1\n",
        "    term2 = mag*exp2\n",
        "\n",
        "    FFtmp = (term1*term2)/(32**2)\n",
        "\n",
        "    autocorr = tf.signal.ifft2d(FFtmp)\n",
        "    autocorr = tf.math.real(autocorr)\n",
        "\n",
        "    autocorr = tf.transpose(autocorr, perm=[0, 2, 3, 1])\n",
        "\n",
        "    rv = np.int32(np.floor(dim/2))\n",
        "\n",
        "    # rv = tf.cast(tf.math.floor(dim/2), tf.int32)\n",
        "    autocorr = tf.roll(autocorr, rv, 1)\n",
        "    autocorr = tf.roll(autocorr, rv, 2)\n",
        "    # autocorr = tf.signal.ifftshift(autocorr, axes=(1, 2))\n",
        "\n",
        "\n",
        "    # Convert the TensorFlow tensor to a NumPy array\n",
        "    np_array = autocorr.numpy()\n",
        "\n",
        "    # Create a PyTorch tensor from the NumPy array\n",
        "    torch_tensor_autocorr = torch.from_numpy(np_array)\n",
        "\n",
        "    return torch_tensor_autocorr"
      ]
    },
    {
      "cell_type": "markdown",
      "source": [
        "### Torch"
      ],
      "metadata": {
        "id": "bEM5xpVDgDd2"
      }
    },
    {
      "cell_type": "code",
      "source": [
        "import torch\n",
        "import torch.nn as nn\n",
        "\n",
        "def autocorr(x):\n",
        "    \"\"\"\n",
        "    x is a 3 dimensional torch tensor. \n",
        "    \"\"\"\n",
        "\n",
        "    image_length = x.shape[1]\n",
        "\n",
        "    x = 2*x - 1\n",
        "    x = torch.permute(x, (0, 3, 1, 2))\n",
        "    x_complex = x.type(torch.complex64)\n",
        "\n",
        "    M = torch.fft.fft2(x_complex)\n",
        "    mag_M_complex = torch.abs(M).type(torch.complex64)\n",
        "\n",
        "    ang = torch.atan2(M.imag, M.real)\n",
        "    ang = ang.type(torch.complex64)\n",
        "\n",
        "    exp1 = torch.exp(torch.complex(torch.tensor([0], dtype=torch.float32), torch.tensor([-1], dtype=torch.float32))*ang)\n",
        "    exp2 = torch.exp(torch.complex(torch.tensor([0], dtype=torch.float32), torch.tensor([1], dtype=torch.float32))*ang)\n",
        "\n",
        "    term1 = mag_M_complex*exp1\n",
        "    term2 = mag_M_complex*exp2\n",
        "\n",
        "    FFtmp = (term1*term2) / (32**2)\n",
        "\n",
        "    autocorr = torch.fft.ifft2(FFtmp)\n",
        "    autocorr = autocorr.real\n",
        "    autocorr = torch.permute(autocorr, (0, 2, 3, 1))\n",
        "\n",
        "    rv = torch.tensor(dim//2, dtype=torch.int32)\n",
        "    #autocorr = torch.roll(autocorr, rv, 1)\n",
        "    autocorr = torch.roll(autocorr, rv, 2)\n",
        "\n",
        "    return autocorr\n",
        "\n",
        "\n",
        "class FFTLoss(nn.Module):\n",
        "    def __init__(self):\n",
        "        super(FTLoss, self).__init__()\n",
        "        self.mae_loss = nn.L1Loss()\n",
        "    \n",
        "    def forward(self, input, target):\n",
        "        input_autocorr = autocorr(input)\n",
        "        target_autocorr = autocorr(target)\n",
        "        diff = self.mae_loss(input_autocorr, target_autocorr)\n",
        "        return diff\n",
        "    "
      ],
      "metadata": {
        "id": "pLY6MJoRx-Wk"
      },
      "execution_count": null,
      "outputs": []
    },
    {
      "cell_type": "markdown",
      "source": [
        "### testing code"
      ],
      "metadata": {
        "id": "SdtPZwTggH0l"
      }
    },
    {
      "cell_type": "code",
      "source": [
        "import torch\n",
        "import torch.nn as nn\n",
        "\n",
        "input = torch.randn(3, 5, requires_grad=True)\n",
        "target = torch.randn(3, 5)\n",
        "\n",
        "mae_loss = nn.L1Loss()\n",
        "output = mae_loss(input, target)\n",
        "output.backward()\n",
        "\n",
        "print('input: ', input)\n",
        "print('target: ', target)\n",
        "print('output: ', output)"
      ],
      "metadata": {
        "id": "kmgs_n1awjq4"
      },
      "execution_count": null,
      "outputs": []
    }
  ]
}